{
  "nbformat": 4,
  "nbformat_minor": 0,
  "metadata": {
    "colab": {
      "name": "20201009A10205-selectAlgo.ipynb",
      "provenance": [],
      "authorship_tag": "ABX9TyN9oL/Gp84qI/EM6Q/4CPgb",
      "include_colab_link": true
    },
    "kernelspec": {
      "name": "python3",
      "display_name": "Python 3"
    }
  },
  "cells": [
    {
      "cell_type": "markdown",
      "metadata": {
        "id": "view-in-github",
        "colab_type": "text"
      },
      "source": [
        "<a href=\"https://colab.research.google.com/github/aso1801032/AI_tech2020/blob/master/20201009A10205_selectAlgo.ipynb\" target=\"_parent\"><img src=\"https://colab.research.google.com/assets/colab-badge.svg\" alt=\"Open In Colab\"/></a>"
      ]
    },
    {
      "cell_type": "code",
      "metadata": {
        "id": "hN6l2n-ml1PE"
      },
      "source": [
        ""
      ],
      "execution_count": 22,
      "outputs": []
    },
    {
      "cell_type": "markdown",
      "metadata": {
        "id": "jBT_AAh2BbHb"
      },
      "source": [
        "sklearnでエラーが出るので、前のバージョンを入れ直す"
      ]
    },
    {
      "cell_type": "code",
      "metadata": {
        "id": "2GNa-efArXFm",
        "outputId": "72b3765d-df35-4b1f-ef34-03f95ed49bd0",
        "colab": {
          "base_uri": "https://localhost:8080/",
          "height": 433
        }
      },
      "source": [
        "# 現在のscikitーlearnをcolabのVMからアンインストール\n",
        "!pip uninstall scikit-learn\n",
        "# 前のバージョンを指定してvmにいんすとーる\n",
        "!pip install scikit-learn==0.20 --ignore-installed"
      ],
      "execution_count": 23,
      "outputs": [
        {
          "output_type": "stream",
          "text": [
            "Uninstalling scikit-learn-0.20.0:\n",
            "  Would remove:\n",
            "    /usr/local/lib/python3.6/dist-packages/scikit_learn-0.20.0.dist-info/*\n",
            "    /usr/local/lib/python3.6/dist-packages/sklearn/*\n",
            "Proceed (y/n)? y\n",
            "  Successfully uninstalled scikit-learn-0.20.0\n",
            "Collecting scikit-learn==0.20\n",
            "  Using cached https://files.pythonhosted.org/packages/0c/b2/05be9b6da9ae4a4c54f537be22e95833f722742a02b1e355fdc09363877c/scikit_learn-0.20.0-cp36-cp36m-manylinux1_x86_64.whl\n",
            "Collecting numpy>=1.8.2\n",
            "  Using cached https://files.pythonhosted.org/packages/87/86/753182c9085ba4936c0076269a571613387cdb77ae2bf537448bfd63472c/numpy-1.19.4-cp36-cp36m-manylinux2010_x86_64.whl\n",
            "Collecting scipy>=0.13.3\n",
            "  Using cached https://files.pythonhosted.org/packages/8a/14/d0475ceeaa047f3eae2dc7597c3d40228e1d5beee42c1730f3c96ffb5526/scipy-1.5.3-cp36-cp36m-manylinux1_x86_64.whl\n",
            "\u001b[31mERROR: tensorflow 2.3.0 has requirement numpy<1.19.0,>=1.16.0, but you'll have numpy 1.19.4 which is incompatible.\u001b[0m\n",
            "\u001b[31mERROR: tensorflow 2.3.0 has requirement scipy==1.4.1, but you'll have scipy 1.5.3 which is incompatible.\u001b[0m\n",
            "\u001b[31mERROR: datascience 0.10.6 has requirement folium==0.2.1, but you'll have folium 0.8.3 which is incompatible.\u001b[0m\n",
            "\u001b[31mERROR: albumentations 0.1.12 has requirement imgaug<0.2.7,>=0.2.5, but you'll have imgaug 0.2.9 which is incompatible.\u001b[0m\n",
            "Installing collected packages: numpy, scipy, scikit-learn\n",
            "Successfully installed numpy-1.19.4 scikit-learn-0.20.0 scipy-1.5.3\n"
          ],
          "name": "stdout"
        },
        {
          "output_type": "display_data",
          "data": {
            "application/vnd.colab-display-data+json": {
              "pip_warning": {
                "packages": [
                  "numpy",
                  "scipy",
                  "sklearn"
                ]
              }
            }
          },
          "metadata": {
            "tags": []
          }
        }
      ]
    },
    {
      "cell_type": "markdown",
      "metadata": {
        "id": "RBYMI0bmBows"
      },
      "source": [
        "\n",
        "all_estimators()でループして各種のアルゴリズムで学習させ、比較する"
      ]
    },
    {
      "cell_type": "code",
      "metadata": {
        "id": "nFidT-pEBrje"
      },
      "source": [
        "# ライブラリ読み込み\n",
        "import pandas as pd\n",
        "# 学習用データとテスト検証用データを分割する\n",
        "from sklearn.model_selection import train_test_split\n",
        "# 正解率を算出するライブラリ\n",
        "from sklearn.metrics import accuracy_score\n",
        "# all_estimaios(推定機の全てを利用できるようにする)\n",
        "from sklearn.utils.testing import all_estimators\n",
        "# 警告クラス\n",
        "import warnings"
      ],
      "execution_count": 24,
      "outputs": []
    },
    {
      "cell_type": "markdown",
      "metadata": {
        "id": "acSfhG5EBx0l"
      },
      "source": [
        "Webからあやめのデータを読み込む"
      ]
    },
    {
      "cell_type": "code",
      "metadata": {
        "id": "JUicFXKWB1Uy",
        "outputId": "363723a9-a8cb-474d-ddf7-77b68f28a85e",
        "colab": {
          "base_uri": "https://localhost:8080/",
          "height": 204
        }
      },
      "source": [
        "# urリンクから読み込むライブラリ\n",
        "import urllib.request as req\n",
        "# url用の文字列変数を定義\n",
        "url =\"https://raw.githubusercontent.com/pandas-dev/pandas/master/pandas/tests/io/data/csv/iris.csv\"\n",
        "#リンクから保存するためのファイル名を定義\n",
        "savefile = \"iris.csv\"\n",
        "# requestクラスを使ってurlからデータをsavefileへコピーして保存\n",
        "req.urlretrieve(url,savefile)\n",
        "#pandasのreadメソッドを使ってcsvファイルを読み込む\n",
        "iris_data = pd.read_csv(savefile,encoding=\"utf-8\")\n",
        "iris_data.head()"
      ],
      "execution_count": 25,
      "outputs": [
        {
          "output_type": "execute_result",
          "data": {
            "text/html": [
              "<div>\n",
              "<style scoped>\n",
              "    .dataframe tbody tr th:only-of-type {\n",
              "        vertical-align: middle;\n",
              "    }\n",
              "\n",
              "    .dataframe tbody tr th {\n",
              "        vertical-align: top;\n",
              "    }\n",
              "\n",
              "    .dataframe thead th {\n",
              "        text-align: right;\n",
              "    }\n",
              "</style>\n",
              "<table border=\"1\" class=\"dataframe\">\n",
              "  <thead>\n",
              "    <tr style=\"text-align: right;\">\n",
              "      <th></th>\n",
              "      <th>SepalLength</th>\n",
              "      <th>SepalWidth</th>\n",
              "      <th>PetalLength</th>\n",
              "      <th>PetalWidth</th>\n",
              "      <th>Name</th>\n",
              "    </tr>\n",
              "  </thead>\n",
              "  <tbody>\n",
              "    <tr>\n",
              "      <th>0</th>\n",
              "      <td>5.1</td>\n",
              "      <td>3.5</td>\n",
              "      <td>1.4</td>\n",
              "      <td>0.2</td>\n",
              "      <td>Iris-setosa</td>\n",
              "    </tr>\n",
              "    <tr>\n",
              "      <th>1</th>\n",
              "      <td>4.9</td>\n",
              "      <td>3.0</td>\n",
              "      <td>1.4</td>\n",
              "      <td>0.2</td>\n",
              "      <td>Iris-setosa</td>\n",
              "    </tr>\n",
              "    <tr>\n",
              "      <th>2</th>\n",
              "      <td>4.7</td>\n",
              "      <td>3.2</td>\n",
              "      <td>1.3</td>\n",
              "      <td>0.2</td>\n",
              "      <td>Iris-setosa</td>\n",
              "    </tr>\n",
              "    <tr>\n",
              "      <th>3</th>\n",
              "      <td>4.6</td>\n",
              "      <td>3.1</td>\n",
              "      <td>1.5</td>\n",
              "      <td>0.2</td>\n",
              "      <td>Iris-setosa</td>\n",
              "    </tr>\n",
              "    <tr>\n",
              "      <th>4</th>\n",
              "      <td>5.0</td>\n",
              "      <td>3.6</td>\n",
              "      <td>1.4</td>\n",
              "      <td>0.2</td>\n",
              "      <td>Iris-setosa</td>\n",
              "    </tr>\n",
              "  </tbody>\n",
              "</table>\n",
              "</div>"
            ],
            "text/plain": [
              "   SepalLength  SepalWidth  PetalLength  PetalWidth         Name\n",
              "0          5.1         3.5          1.4         0.2  Iris-setosa\n",
              "1          4.9         3.0          1.4         0.2  Iris-setosa\n",
              "2          4.7         3.2          1.3         0.2  Iris-setosa\n",
              "3          4.6         3.1          1.5         0.2  Iris-setosa\n",
              "4          5.0         3.6          1.4         0.2  Iris-setosa"
            ]
          },
          "metadata": {
            "tags": []
          },
          "execution_count": 25
        }
      ]
    },
    {
      "cell_type": "markdown",
      "metadata": {
        "id": "0s-ozYBTB3zM"
      },
      "source": [
        "アヤメデータを目的変数yと説明変数xに分離する"
      ]
    },
    {
      "cell_type": "code",
      "metadata": {
        "id": "-Rd-mh-7B3hE",
        "outputId": "d5b09436-dfbc-4997-cd74-3b0cf26def2e",
        "colab": {
          "base_uri": "https://localhost:8080/"
        }
      },
      "source": [
        "y = iris_data.loc[:, \"Name\"] #目的変数\n",
        "x = iris_data.loc[:,[\"SepalLength\",\"SepalWidth\",\"PetalLength\",\"PetalWidth\"]] #説明変数\n",
        "\n",
        "print(y.head())\n",
        "print(x.head())"
      ],
      "execution_count": 26,
      "outputs": [
        {
          "output_type": "stream",
          "text": [
            "0    Iris-setosa\n",
            "1    Iris-setosa\n",
            "2    Iris-setosa\n",
            "3    Iris-setosa\n",
            "4    Iris-setosa\n",
            "Name: Name, dtype: object\n",
            "   SepalLength  SepalWidth  PetalLength  PetalWidth\n",
            "0          5.1         3.5          1.4         0.2\n",
            "1          4.9         3.0          1.4         0.2\n",
            "2          4.7         3.2          1.3         0.2\n",
            "3          4.6         3.1          1.5         0.2\n",
            "4          5.0         3.6          1.4         0.2\n"
          ],
          "name": "stdout"
        }
      ]
    },
    {
      "cell_type": "markdown",
      "metadata": {
        "id": "Ik3hsSX-B7vk"
      },
      "source": [
        "\n",
        "アヤメデータをさらに学習用とテストように分離する"
      ]
    },
    {
      "cell_type": "code",
      "metadata": {
        "id": "Xj7ulZN2B9gM",
        "outputId": "7c53d387-2676-4140-fc0e-14bc91d1332c",
        "colab": {
          "base_uri": "https://localhost:8080/"
        }
      },
      "source": [
        "# 学習用データ（train）と検証用データ（test）に分離\n",
        "x_train,x_test,y_train,y_test = train_test_split(x,y,test_size=0.2,train_size=0.8,shuffle=True)\n",
        "print(x_train.head())\n",
        "print(y_train.head())\n",
        "print(x_test.head())\n",
        "print(y_test.head())"
      ],
      "execution_count": 27,
      "outputs": [
        {
          "output_type": "stream",
          "text": [
            "     SepalLength  SepalWidth  PetalLength  PetalWidth\n",
            "89           5.5         2.5          4.0         1.3\n",
            "115          6.4         3.2          5.3         2.3\n",
            "108          6.7         2.5          5.8         1.8\n",
            "18           5.7         3.8          1.7         0.3\n",
            "34           4.9         3.1          1.5         0.1\n",
            "89     Iris-versicolor\n",
            "115     Iris-virginica\n",
            "108     Iris-virginica\n",
            "18         Iris-setosa\n",
            "34         Iris-setosa\n",
            "Name: Name, dtype: object\n",
            "     SepalLength  SepalWidth  PetalLength  PetalWidth\n",
            "86           6.7         3.1          4.7         1.5\n",
            "3            4.6         3.1          1.5         0.2\n",
            "120          6.9         3.2          5.7         2.3\n",
            "78           6.0         2.9          4.5         1.5\n",
            "58           6.6         2.9          4.6         1.3\n",
            "86     Iris-versicolor\n",
            "3          Iris-setosa\n",
            "120     Iris-virginica\n",
            "78     Iris-versicolor\n",
            "58     Iris-versicolor\n",
            "Name: Name, dtype: object\n"
          ],
          "name": "stdout"
        }
      ]
    },
    {
      "cell_type": "markdown",
      "metadata": {
        "id": "Hpx-lcMuB_0z"
      },
      "source": [
        "allAlgorithmsにclassifierを指定して「分類」でフィルターしたアルゴリズムの推定器群を取得する"
      ]
    },
    {
      "cell_type": "code",
      "metadata": {
        "id": "sZ5WIJaFCBVH"
      },
      "source": [
        "# 推定器のリストをフィルター指定して取得\n",
        "allAlgorithms = all_estimators(type_filter=\"classifier\")\n",
        "# ワーニングを無視する\n",
        "warnings.filterwarnings(\"ignore\")"
      ],
      "execution_count": 28,
      "outputs": []
    },
    {
      "cell_type": "markdown",
      "metadata": {
        "id": "uJpkrLHMCDZ3"
      },
      "source": [
        "推定器のリストをループしながら学習&推論させる"
      ]
    },
    {
      "cell_type": "code",
      "metadata": {
        "id": "Vmy3Fk3GCFKH",
        "outputId": "967ca20c-5dac-4258-a400-719b2d85a9b1",
        "colab": {
          "base_uri": "https://localhost:8080/"
        }
      },
      "source": [
        "#推定器のリストをループ\n",
        "for(name,algorithm) in allAlgorithms:\n",
        "  #各アルゴリズムのオブジェクトを生成\n",
        "  clf = algorithm() # 各アルゴリズムクラスのコンストラクトを実行\n",
        "  #　学習させる\n",
        "  clf.fit(x_train,y_train)\n",
        "  # 推論する\n",
        "  y_pred = clf.predict(x_test)\n",
        "  # accuracy_scoreで正解率を算出して表示\n",
        "  print(name,\"正解率 = \",accuracy_score(y_test,y_pred) )"
      ],
      "execution_count": 29,
      "outputs": [
        {
          "output_type": "stream",
          "text": [
            "AdaBoostClassifier 正解率 =  0.9\n",
            "BaggingClassifier 正解率 =  0.9333333333333333\n",
            "BernoulliNB 正解率 =  0.3\n",
            "CalibratedClassifierCV 正解率 =  0.9\n",
            "ComplementNB 正解率 =  0.6666666666666666\n",
            "DecisionTreeClassifier 正解率 =  0.9333333333333333\n",
            "ExtraTreeClassifier 正解率 =  0.9333333333333333\n",
            "ExtraTreesClassifier 正解率 =  0.9333333333333333\n",
            "GaussianNB 正解率 =  0.9333333333333333\n",
            "GaussianProcessClassifier 正解率 =  0.9666666666666667\n",
            "GradientBoostingClassifier 正解率 =  0.9333333333333333\n",
            "KNeighborsClassifier 正解率 =  0.9666666666666667\n",
            "LabelPropagation 正解率 =  0.9666666666666667\n",
            "LabelSpreading 正解率 =  0.9666666666666667\n",
            "LinearDiscriminantAnalysis 正解率 =  0.9666666666666667\n",
            "LinearSVC 正解率 =  0.9333333333333333\n",
            "LogisticRegression 正解率 =  0.9333333333333333\n",
            "LogisticRegressionCV 正解率 =  0.9666666666666667\n",
            "MLPClassifier 正解率 =  0.9666666666666667\n",
            "MultinomialNB 正解率 =  0.9333333333333333\n",
            "NearestCentroid 正解率 =  1.0\n",
            "NuSVC 正解率 =  0.9666666666666667\n",
            "PassiveAggressiveClassifier 正解率 =  0.9\n",
            "Perceptron 正解率 =  0.6666666666666666\n",
            "QuadraticDiscriminantAnalysis 正解率 =  0.9666666666666667\n",
            "RadiusNeighborsClassifier 正解率 =  1.0\n",
            "RandomForestClassifier 正解率 =  0.9\n",
            "RidgeClassifier 正解率 =  0.7666666666666667\n",
            "RidgeClassifierCV 正解率 =  0.7666666666666667\n",
            "SGDClassifier 正解率 =  0.6666666666666666\n",
            "SVC 正解率 =  0.9666666666666667\n"
          ],
          "name": "stdout"
        }
      ]
    },
    {
      "cell_type": "markdown",
      "metadata": {
        "id": "gGLttiwqCJCU"
      },
      "source": [
        "###クロスバリデーション"
      ]
    },
    {
      "cell_type": "markdown",
      "metadata": {
        "id": "GkSHBxofCKKm"
      },
      "source": [
        "\n",
        "クロスバリデーション 関連のライブラリのインポート"
      ]
    },
    {
      "cell_type": "code",
      "metadata": {
        "id": "i-ZrTyIqCM7N"
      },
      "source": [
        "# ライブラリのインポート\n",
        "from sklearn.model_selection import KFold\n",
        "from sklearn.model_selection import cross_val_score"
      ],
      "execution_count": 30,
      "outputs": []
    },
    {
      "cell_type": "markdown",
      "metadata": {
        "id": "00gONFiMCO3o"
      },
      "source": [
        "クロスバリデーション を実行する"
      ]
    },
    {
      "cell_type": "code",
      "metadata": {
        "id": "gdPv9cu-CQuJ",
        "outputId": "b767d5a1-694d-4f9d-d4b4-37d30b06a0f2",
        "colab": {
          "base_uri": "https://localhost:8080/"
        }
      },
      "source": [
        "# K分割交差検証用のインスタンスを生成する\n",
        "kfold_cv = KFold(n_splits=5,shuffle=True)\n",
        "# 　すでに生成してあるall_astimatorsのインスタンスをループさせて、クロスバリデーション を行う\n",
        "for(name,algorithm) in allAlgorithms:\n",
        "  try:\n",
        "    # 各アルゴリズムのインスタンスを取得\n",
        "    clf = algorithm()\n",
        "    #scoreの属性がある学習モデルだけに送る\n",
        "    if hasattr(clf,\"score\"):\n",
        "      scores = cross_val_score(clf,x,y,cv=kfold_cv)\n",
        "      #k=n splits=5回分のクロスバリデーション のスコアを表示\n",
        "      print(name,\"の正解率=\")\n",
        "      print(scores)\n",
        "      #ifブロック終了\n",
        "    #tryブロック終了\n",
        "  except : #例外処理のブロック\n",
        "  #except Exception e:\n",
        "  #print(e)\n",
        "    #何もしない\n",
        "    pass"
      ],
      "execution_count": 31,
      "outputs": [
        {
          "output_type": "stream",
          "text": [
            "AdaBoostClassifier の正解率=\n",
            "[0.86666667 0.93333333 0.96666667 0.96666667 0.9       ]\n",
            "BaggingClassifier の正解率=\n",
            "[0.96666667 0.96666667 0.9        0.96666667 0.93333333]\n",
            "BernoulliNB の正解率=\n",
            "[0.33333333 0.26666667 0.3        0.3        0.26666667]\n",
            "CalibratedClassifierCV の正解率=\n",
            "[0.93333333 0.9        0.9        0.9        1.        ]\n",
            "ComplementNB の正解率=\n",
            "[0.76666667 0.8        0.63333333 0.6        0.53333333]\n",
            "DecisionTreeClassifier の正解率=\n",
            "[1.         0.9        0.96666667 0.96666667 0.83333333]\n",
            "ExtraTreeClassifier の正解率=\n",
            "[0.93333333 0.96666667 0.86666667 0.96666667 0.9       ]\n",
            "ExtraTreesClassifier の正解率=\n",
            "[0.96666667 0.9        0.96666667 0.9        0.96666667]\n",
            "GaussianNB の正解率=\n",
            "[0.96666667 0.96666667 0.96666667 0.93333333 0.93333333]\n",
            "GaussianProcessClassifier の正解率=\n",
            "[1.         0.96666667 0.96666667 0.96666667 0.96666667]\n",
            "GradientBoostingClassifier の正解率=\n",
            "[1.         0.86666667 0.96666667 0.93333333 0.93333333]\n",
            "KNeighborsClassifier の正解率=\n",
            "[0.96666667 0.93333333 0.93333333 1.         1.        ]\n",
            "LabelPropagation の正解率=\n",
            "[1.         0.93333333 1.         0.96666667 0.9       ]\n",
            "LabelSpreading の正解率=\n",
            "[0.93333333 0.96666667 0.96666667 0.96666667 0.93333333]\n",
            "LinearDiscriminantAnalysis の正解率=\n",
            "[0.93333333 1.         1.         1.         0.93333333]\n",
            "LinearSVC の正解率=\n",
            "[1.         0.86666667 0.96666667 0.9        1.        ]\n",
            "LogisticRegression の正解率=\n",
            "[0.93333333 0.83333333 1.         0.96666667 0.96666667]\n",
            "LogisticRegressionCV の正解率=\n",
            "[0.93333333 1.         0.83333333 0.93333333 1.        ]\n",
            "MLPClassifier の正解率=\n",
            "[1.         1.         1.         0.96666667 0.93333333]\n",
            "MultinomialNB の正解率=\n",
            "[0.96666667 1.         0.56666667 0.53333333 0.83333333]\n",
            "NearestCentroid の正解率=\n",
            "[0.93333333 0.9        0.96666667 0.86666667 0.9       ]\n",
            "NuSVC の正解率=\n",
            "[0.96666667 0.96666667 1.         0.96666667 0.93333333]\n",
            "PassiveAggressiveClassifier の正解率=\n",
            "[0.76666667 0.6        0.66666667 0.8        0.6       ]\n",
            "Perceptron の正解率=\n",
            "[0.73333333 0.93333333 0.5        0.66666667 0.46666667]\n",
            "QuadraticDiscriminantAnalysis の正解率=\n",
            "[0.96666667 0.9        1.         1.         0.96666667]\n",
            "RadiusNeighborsClassifier の正解率=\n",
            "[0.96666667 0.9        1.         0.96666667 0.93333333]\n",
            "RandomForestClassifier の正解率=\n",
            "[0.96666667 0.96666667 0.9        0.86666667 0.96666667]\n",
            "RidgeClassifier の正解率=\n",
            "[0.8        0.8        0.83333333 0.93333333 0.73333333]\n",
            "RidgeClassifierCV の正解率=\n",
            "[0.83333333 0.7        0.93333333 0.9        0.86666667]\n",
            "SGDClassifier の正解率=\n",
            "[0.3        0.9        0.73333333 0.63333333 0.8       ]\n",
            "SVC の正解率=\n",
            "[0.96666667 0.93333333 0.96666667 0.96666667 1.        ]\n"
          ],
          "name": "stdout"
        }
      ]
    },
    {
      "cell_type": "markdown",
      "metadata": {
        "id": "gMV0sGnBCTXp"
      },
      "source": [
        "おまけ: もっと詳しい結果を取得できるクロスバリデーション オブジェクト:cross_validate"
      ]
    },
    {
      "cell_type": "code",
      "metadata": {
        "id": "kq_byWB8CVD3"
      },
      "source": [
        "# ライブラリのインポート\n",
        "from sklearn.model_selection import cross_validate"
      ],
      "execution_count": 32,
      "outputs": []
    },
    {
      "cell_type": "markdown",
      "metadata": {
        "id": "PV7N_ywyCWoi"
      },
      "source": [
        "\n",
        "cross_validateを使ったクロスバリデーション"
      ]
    },
    {
      "cell_type": "code",
      "metadata": {
        "id": "EQ732xfjCYrP",
        "outputId": "c6a498ff-4b15-4af3-d625-20dec636da60",
        "colab": {
          "base_uri": "https://localhost:8080/"
        }
      },
      "source": [
        "# K分割交差検証用のインスタンスを生成する\n",
        "kfold_cv = KFold(n_splits=5,shuffle=True)\n",
        "# 　すでに生成してあるall_astimatorsのインスタンスをループさせて、クロスバリデーション を行う\n",
        "for(name,algorithm) in allAlgorithms:\n",
        "  try:\n",
        "    # 各アルゴリズムのインスタンスを取得\n",
        "    clf = algorithm()\n",
        "    #scoreの属性がある学習モデルだけに送る\n",
        "    if hasattr(clf,\"score\"):\n",
        "      scores = cross_validate(clf,x,y,cv=kfold_cv)\n",
        "      #k=n splits=5回分のクロスバリデーション のスコアを表示\n",
        "      print(name,\"の正解率=\")\n",
        "      print(scores)\n",
        "      #ifブロック終了\n",
        "    #tryブロック終了\n",
        "  except : #例外処理のブロック\n",
        "    #何もしない\n",
        "    pass"
      ],
      "execution_count": 33,
      "outputs": [
        {
          "output_type": "stream",
          "text": [
            "AdaBoostClassifier の正解率=\n",
            "{'fit_time': array([0.06477642, 0.05961919, 0.05850911, 0.06039095, 0.0611937 ]), 'score_time': array([0.00626636, 0.00549245, 0.00538039, 0.00546241, 0.00552273]), 'test_score': array([1.        , 0.9       , 0.96666667, 0.86666667, 0.83333333]), 'train_score': array([0.95      , 0.95833333, 0.95833333, 0.98333333, 0.94166667])}\n",
            "BaggingClassifier の正解率=\n",
            "{'fit_time': array([0.01416397, 0.01238918, 0.01290035, 0.01480365, 0.01245475]), 'score_time': array([0.00144768, 0.00147533, 0.00159287, 0.00143719, 0.00140452]), 'test_score': array([0.96666667, 1.        , 0.93333333, 0.9       , 0.93333333]), 'train_score': array([0.99166667, 1.        , 0.99166667, 1.        , 1.        ])}\n",
            "BernoulliNB の正解率=\n",
            "{'fit_time': array([0.0026412 , 0.00160432, 0.00161004, 0.00160956, 0.00156927]), 'score_time': array([0.00137615, 0.00080109, 0.00075841, 0.0007894 , 0.0007925 ]), 'test_score': array([0.26666667, 0.2       , 0.2       , 0.16666667, 0.23333333]), 'train_score': array([0.35      , 0.36666667, 0.36666667, 0.375     , 0.35833333])}\n",
            "CalibratedClassifierCV の正解率=\n",
            "{'fit_time': array([0.03639579, 0.03807688, 0.04326558, 0.03888512, 0.03816032]), 'score_time': array([0.00129032, 0.00177526, 0.00141215, 0.00124264, 0.00144958]), 'test_score': array([0.9       , 1.        , 0.9       , 0.96666667, 0.9       ]), 'train_score': array([0.94166667, 0.925     , 0.95      , 0.925     , 0.93333333])}\n",
            "ComplementNB の正解率=\n",
            "{'fit_time': array([0.00295663, 0.00183964, 0.00174499, 0.00177741, 0.00176787]), 'score_time': array([0.00119066, 0.00080085, 0.00078535, 0.00081301, 0.00084162]), 'test_score': array([0.66666667, 0.56666667, 0.6       , 0.83333333, 0.66666667]), 'train_score': array([0.66666667, 0.69166667, 0.68333333, 0.625     , 0.66666667])}\n",
            "DecisionTreeClassifier の正解率=\n",
            "{'fit_time': array([0.00187564, 0.00461268, 0.00155187, 0.00152874, 0.00183392]), 'score_time': array([0.00076294, 0.00077033, 0.00091076, 0.0006628 , 0.00090241]), 'test_score': array([1.        , 0.96666667, 0.93333333, 0.86666667, 0.96666667]), 'train_score': array([1., 1., 1., 1., 1.])}\n",
            "ExtraTreeClassifier の正解率=\n",
            "{'fit_time': array([0.00211048, 0.00114965, 0.00115275, 0.00116968, 0.00114393]), 'score_time': array([0.00068307, 0.00062799, 0.00064206, 0.00062299, 0.00063014]), 'test_score': array([0.93333333, 0.96666667, 1.        , 0.86666667, 0.93333333]), 'train_score': array([1., 1., 1., 1., 1.])}\n",
            "ExtraTreesClassifier の正解率=\n",
            "{'fit_time': array([0.01017523, 0.00933146, 0.00902486, 0.00898147, 0.00885558]), 'score_time': array([0.00141644, 0.00129247, 0.0013864 , 0.00130129, 0.00129461]), 'test_score': array([0.96666667, 1.        , 0.96666667, 0.86666667, 0.96666667]), 'train_score': array([1., 1., 1., 1., 1.])}\n",
            "GaussianNB の正解率=\n",
            "{'fit_time': array([0.00204778, 0.00245786, 0.00153565, 0.00142384, 0.00143313]), 'score_time': array([0.00117588, 0.00077939, 0.00081897, 0.00079155, 0.00102258]), 'test_score': array([0.96666667, 0.96666667, 0.96666667, 0.93333333, 0.93333333]), 'train_score': array([0.95833333, 0.95      , 0.95833333, 0.96666667, 0.96666667])}\n",
            "GaussianProcessClassifier の正解率=\n",
            "{'fit_time': array([0.06543732, 0.06305027, 0.0625689 , 0.06451058, 0.06543612]), 'score_time': array([0.00910997, 0.00900173, 0.010571  , 0.00955224, 0.00938964]), 'test_score': array([0.96666667, 0.93333333, 0.96666667, 0.93333333, 1.        ]), 'train_score': array([0.975     , 0.975     , 0.98333333, 0.96666667, 0.95833333])}\n",
            "GradientBoostingClassifier の正解率=\n",
            "{'fit_time': array([0.23128843, 0.12092686, 0.13866067, 0.13665056, 0.13898969]), 'score_time': array([0.00133443, 0.00123572, 0.00133777, 0.0013051 , 0.00139737]), 'test_score': array([0.96666667, 0.9       , 0.93333333, 0.93333333, 0.96666667]), 'train_score': array([1., 1., 1., 1., 1.])}\n",
            "KNeighborsClassifier の正解率=\n",
            "{'fit_time': array([0.00171781, 0.00124264, 0.00164962, 0.00123715, 0.00119519]), 'score_time': array([0.00330305, 0.00186491, 0.00212955, 0.00187206, 0.00182009]), 'test_score': array([0.96666667, 1.        , 0.96666667, 0.96666667, 1.        ]), 'train_score': array([0.975     , 0.96666667, 0.975     , 0.96666667, 0.95833333])}\n",
            "LabelPropagation の正解率=\n",
            "{'fit_time': array([0.00428653, 0.00262737, 0.0026505 , 0.00268626, 0.00269032]), 'score_time': array([0.00150847, 0.00149608, 0.00149512, 0.00180817, 0.00151277]), 'test_score': array([0.9       , 0.96666667, 0.93333333, 1.        , 1.        ]), 'train_score': array([1., 1., 1., 1., 1.])}\n",
            "LabelSpreading の正解率=\n",
            "{'fit_time': array([0.00314736, 0.00305986, 0.00302172, 0.00298214, 0.00307989]), 'score_time': array([0.00152683, 0.00148463, 0.00150442, 0.00148225, 0.00144863]), 'test_score': array([1.        , 0.93333333, 1.        , 0.96666667, 0.9       ]), 'train_score': array([1., 1., 1., 1., 1.])}\n",
            "LinearDiscriminantAnalysis の正解率=\n",
            "{'fit_time': array([0.00258255, 0.00247145, 0.00239015, 0.00238061, 0.00243425]), 'score_time': array([0.0009594 , 0.00090623, 0.00091529, 0.00090337, 0.00103378]), 'test_score': array([0.96666667, 0.96666667, 1.        , 0.96666667, 1.        ]), 'train_score': array([0.98333333, 0.98333333, 0.975     , 0.98333333, 0.975     ])}\n",
            "LinearSVC の正解率=\n",
            "{'fit_time': array([0.01269197, 0.01255274, 0.01183796, 0.01249075, 0.02177691]), 'score_time': array([0.00106049, 0.00110435, 0.00100827, 0.0010128 , 0.00121617]), 'test_score': array([1.        , 0.96666667, 0.9       , 0.96666667, 0.96666667]), 'train_score': array([0.975     , 0.96666667, 0.98333333, 0.96666667, 0.96666667])}\n",
            "LogisticRegression の正解率=\n",
            "{'fit_time': array([0.00266623, 0.00256634, 0.00253606, 0.00255299, 0.00158024]), 'score_time': array([0.00101256, 0.00101256, 0.00102663, 0.00084925, 0.00062323]), 'test_score': array([0.9       , 0.86666667, 0.96666667, 0.9       , 1.        ]), 'train_score': array([0.95833333, 0.95      , 0.95833333, 0.96666667, 0.95      ])}\n",
            "LogisticRegressionCV の正解率=\n",
            "{'fit_time': array([0.38143921, 0.36249089, 0.35501099, 0.33733082, 0.31334209]), 'score_time': array([0.00098753, 0.00095296, 0.00088549, 0.00083184, 0.00083828]), 'test_score': array([0.96666667, 0.86666667, 0.93333333, 0.96666667, 1.        ]), 'train_score': array([0.95833333, 0.98333333, 0.95833333, 0.95      , 0.975     ])}\n",
            "MLPClassifier の正解率=\n",
            "{'fit_time': array([0.13097262, 0.13310099, 0.12814426, 0.12947392, 0.1357379 ]), 'score_time': array([0.00118423, 0.00115156, 0.00118589, 0.00117731, 0.00116515]), 'test_score': array([0.96666667, 0.96666667, 0.96666667, 1.        , 1.        ]), 'train_score': array([0.975     , 0.98333333, 0.975     , 0.96666667, 0.975     ])}\n",
            "MultinomialNB の正解率=\n",
            "{'fit_time': array([0.00268078, 0.00165153, 0.00169945, 0.00159979, 0.00161457]), 'score_time': array([0.0011096 , 0.00069976, 0.00076771, 0.00080943, 0.00069404]), 'test_score': array([0.9       , 0.9       , 0.96666667, 0.56666667, 0.8       ]), 'train_score': array([0.975     , 0.88333333, 0.95      , 0.7       , 0.81666667])}\n",
            "NearestCentroid の正解率=\n",
            "{'fit_time': array([0.00148177, 0.00148129, 0.0014708 , 0.00151801, 0.00150585]), 'score_time': array([0.00138617, 0.00097084, 0.00096774, 0.00099921, 0.00092888]), 'test_score': array([0.96666667, 0.83333333, 0.93333333, 0.96666667, 0.9       ]), 'train_score': array([0.90833333, 0.925     , 0.925     , 0.925     , 0.94166667])}\n",
            "NuSVC の正解率=\n",
            "{'fit_time': array([0.00289917, 0.00196862, 0.00192547, 0.00192451, 0.00191236]), 'score_time': array([0.00077868, 0.00077319, 0.0007472 , 0.00073338, 0.00074291]), 'test_score': array([0.96666667, 0.9       , 1.        , 0.93333333, 0.9       ]), 'train_score': array([0.96666667, 0.96666667, 0.95833333, 0.95      , 0.975     ])}\n",
            "PassiveAggressiveClassifier の正解率=\n",
            "{'fit_time': array([0.00294399, 0.00174022, 0.0016849 , 0.00168467, 0.00168538]), 'score_time': array([0.00109434, 0.00069928, 0.00069523, 0.00064945, 0.00071692]), 'test_score': array([0.8       , 0.63333333, 0.9       , 0.93333333, 0.6       ]), 'train_score': array([0.78333333, 0.70833333, 0.95      , 0.93333333, 0.73333333])}\n",
            "Perceptron の正解率=\n",
            "{'fit_time': array([0.00356412, 0.00234437, 0.00243688, 0.00231624, 0.00229001]), 'score_time': array([0.00072002, 0.00066662, 0.00079751, 0.00066996, 0.00067043]), 'test_score': array([0.86666667, 0.66666667, 0.4       , 0.66666667, 0.6       ]), 'train_score': array([0.85833333, 0.65      , 0.45      , 0.66666667, 0.60833333])}\n",
            "QuadraticDiscriminantAnalysis の正解率=\n",
            "{'fit_time': array([0.00206041, 0.00141573, 0.00144482, 0.0013833 , 0.00142407]), 'score_time': array([0.00090933, 0.00083089, 0.00085449, 0.00085282, 0.00084853]), 'test_score': array([1.        , 1.        , 0.96666667, 0.93333333, 1.        ]), 'train_score': array([0.975     , 0.975     , 0.98333333, 0.99166667, 0.975     ])}\n",
            "RadiusNeighborsClassifier の正解率=\n",
            "{'fit_time': array([0.00157428, 0.00123453, 0.00143623, 0.00132298, 0.00211358]), 'score_time': array([0.00485158, 0.00405002, 0.00418949, 0.00420952, 0.00682282]), 'test_score': array([0.96666667, 0.96666667, 0.9       , 0.96666667, 1.        ]), 'train_score': array([0.96666667, 0.94166667, 0.96666667, 0.95      , 0.95833333])}\n",
            "RandomForestClassifier の正解率=\n",
            "{'fit_time': array([0.01405048, 0.0122478 , 0.01194787, 0.01196432, 0.01202035]), 'score_time': array([0.0013721 , 0.00146508, 0.00133395, 0.00136805, 0.00133133]), 'test_score': array([0.96666667, 0.96666667, 0.93333333, 0.9       , 0.93333333]), 'train_score': array([0.99166667, 0.99166667, 0.98333333, 1.        , 1.        ])}\n",
            "RidgeClassifier の正解率=\n",
            "{'fit_time': array([0.00388932, 0.00248146, 0.00242829, 0.00238514, 0.00235868]), 'score_time': array([0.00065303, 0.00071764, 0.00071764, 0.00072408, 0.00072408]), 'test_score': array([0.8       , 0.86666667, 0.73333333, 0.9       , 0.83333333]), 'train_score': array([0.85833333, 0.85833333, 0.86666667, 0.84166667, 0.85833333])}\n",
            "RidgeClassifierCV の正解率=\n",
            "{'fit_time': array([0.00268865, 0.00333118, 0.00283575, 0.00267792, 0.0027287 ]), 'score_time': array([0.00074005, 0.00076985, 0.00078726, 0.00074697, 0.00075531]), 'test_score': array([0.86666667, 0.86666667, 0.73333333, 0.86666667, 0.86666667]), 'train_score': array([0.85833333, 0.85833333, 0.85      , 0.85833333, 0.84166667])}\n",
            "SGDClassifier の正解率=\n",
            "{'fit_time': array([0.00269294, 0.00261045, 0.00174308, 0.00181913, 0.00175738]), 'score_time': array([0.00089455, 0.00067019, 0.00067234, 0.00066352, 0.00069618]), 'test_score': array([0.76666667, 0.4       , 0.6       , 0.56666667, 0.66666667]), 'train_score': array([0.75833333, 0.33333333, 0.68333333, 0.575     , 0.66666667])}\n",
            "SVC の正解率=\n",
            "{'fit_time': array([0.00254226, 0.00162601, 0.00170398, 0.00172472, 0.00158834]), 'score_time': array([0.00076866, 0.00077605, 0.00077534, 0.00076675, 0.00071406]), 'test_score': array([1.        , 0.96666667, 0.96666667, 1.        , 0.93333333]), 'train_score': array([0.975     , 0.98333333, 0.98333333, 0.99166667, 0.98333333])}\n"
          ],
          "name": "stdout"
        }
      ]
    },
    {
      "cell_type": "markdown",
      "metadata": {
        "id": "lqu4i3WiCbOC"
      },
      "source": [
        "###グリッドサーチで最適なパラメータを探し求める"
      ]
    },
    {
      "cell_type": "markdown",
      "metadata": {
        "id": "yDJda6SrCeJQ"
      },
      "source": [
        "ライブラリをimport"
      ]
    },
    {
      "cell_type": "code",
      "metadata": {
        "id": "HMq43GKnCgJv"
      },
      "source": [
        "# グリッドサーチ\n",
        "from sklearn.model_selection import GridSearchCV\n",
        "# SVCアルゴリズムの学習モデルをimport\n",
        "from sklearn.svm import SVC"
      ],
      "execution_count": 34,
      "outputs": []
    },
    {
      "cell_type": "markdown",
      "metadata": {
        "id": "qca3ne87CiAN"
      },
      "source": [
        "グリッドサーチを実行してパラメータを試す"
      ]
    },
    {
      "cell_type": "code",
      "metadata": {
        "id": "3sfJU56uClXO",
        "outputId": "66c87327-577a-40b0-e2be-df5731f4b88f",
        "colab": {
          "base_uri": "https://localhost:8080/"
        }
      },
      "source": [
        "# グリッドサーチを試すパラメ０他のパターンを指定する\n",
        "parameters = [\n",
        "              #３つのパラメータ、3パターン\n",
        "              {\"C\":[1,10,100,1000],\"kernel\":[\"linear\"]},\n",
        "              {\"C\":[1,10,100,1000],\"kernel\":[\"rbf\"],\"gamma\":[0.001,0.0001]},\n",
        "              {\"C\":[1,10,100,1000],\"kernel\":[\"sigmoid\"],\"gamma\":[0.001,0.0001]}\n",
        "              ]\n",
        "\n",
        "# K分割交差検証用のインスタンスを生成する\n",
        "kfold_cv = KFold(n_splits=5,shuffle=True)\n",
        "#普通の学習\n",
        "clf = SVC()\n",
        "clf.fit(x_train,y_train)\n",
        "y_pred = clf.predict(x_test)\n",
        "print(\"普通の学習の正解率 = \",accuracy_score(y_test,y_pred))\n",
        "\n",
        "#  グリッドサーチを行う\n",
        "# K分割交差検証用のインスタンスを生成する\n",
        "kfold_cv = KFold(n_splits=5,shuffle=True)\n",
        "# グリッドサーチの中でK分割交差検証も行われる\n",
        "clf_grid = GridSearchCV(SVC(),parameters,cv=kfold_cv) # インスタンス\n",
        "clf_grid.fit(x_train,y_train) #学習\n",
        "# 学習済みのもでるに最終的に設定された(最適と思われる)パラメータを表示\n",
        "print(\"最適なパラメータ = \",clf_grid.best_estimator_)\n",
        "\n",
        "#　最適なパラメータを表示\n",
        "y_pred = clf_grid.predict(x_test)\n",
        "print(\"グリッドサーチの正解率=\",accuracy_score(y_pred,y_test))"
      ],
      "execution_count": 35,
      "outputs": [
        {
          "output_type": "stream",
          "text": [
            "普通の学習の正解率 =  0.9666666666666667\n",
            "最適なパラメータ =  SVC(C=1, cache_size=200, class_weight=None, coef0=0.0,\n",
            "  decision_function_shape='ovr', degree=3, gamma='auto_deprecated',\n",
            "  kernel='linear', max_iter=-1, probability=False, random_state=None,\n",
            "  shrinking=True, tol=0.001, verbose=False)\n",
            "グリッドサーチの正解率= 0.9666666666666667\n"
          ],
          "name": "stdout"
        }
      ]
    },
    {
      "cell_type": "markdown",
      "metadata": {
        "id": "y4VpQ-fTCnUc"
      },
      "source": [
        "Numpyの動作確認"
      ]
    },
    {
      "cell_type": "code",
      "metadata": {
        "id": "sJsfhYnsCpNs"
      },
      "source": [
        "import numpy as np"
      ],
      "execution_count": 36,
      "outputs": []
    },
    {
      "cell_type": "code",
      "metadata": {
        "id": "VdhwQuNACq5i",
        "outputId": "e9f4304b-9dbc-40b6-b1c7-9a55d5d4b3ab",
        "colab": {
          "base_uri": "https://localhost:8080/"
        }
      },
      "source": [
        "# numpy配列の初期化\n",
        "a = np.array([1,2,3,4,5]) # ndarrayという配列オブジェクトを生成\n",
        "print(a)\n",
        "#型を表示\n",
        "print(type(a))"
      ],
      "execution_count": 37,
      "outputs": [
        {
          "output_type": "stream",
          "text": [
            "[1 2 3 4 5]\n",
            "<class 'numpy.ndarray'>\n"
          ],
          "name": "stdout"
        }
      ]
    },
    {
      "cell_type": "code",
      "metadata": {
        "id": "oT0FpLKbCtEZ",
        "outputId": "620ec2ab-6c02-4c6c-bd10-fbc2c7ca7092",
        "colab": {
          "base_uri": "https://localhost:8080/"
        }
      },
      "source": [
        "# ２次元のndarrayを定義\n",
        "b = np.array([[1,2,3],[4,5,6]])\n",
        "print(b)"
      ],
      "execution_count": 38,
      "outputs": [
        {
          "output_type": "stream",
          "text": [
            "[[1 2 3]\n",
            " [4 5 6]]\n"
          ],
          "name": "stdout"
        }
      ]
    },
    {
      "cell_type": "code",
      "metadata": {
        "id": "FcWk2tlNCuvj",
        "outputId": "a3d850e9-7f24-4de2-85a9-4933ebea22c4",
        "colab": {
          "base_uri": "https://localhost:8080/"
        }
      },
      "source": [
        "# 配列の要素数を指定して0で初期化\n",
        "print(np.zeros(10))\n",
        "print(np.zeros((3,2)))\n",
        "print(np.ones(2))"
      ],
      "execution_count": 39,
      "outputs": [
        {
          "output_type": "stream",
          "text": [
            "[0. 0. 0. 0. 0. 0. 0. 0. 0. 0.]\n",
            "[[0. 0.]\n",
            " [0. 0.]\n",
            " [0. 0.]]\n",
            "[1. 1.]\n"
          ],
          "name": "stdout"
        }
      ]
    },
    {
      "cell_type": "code",
      "metadata": {
        "id": "xozflOj1CwxJ",
        "outputId": "440f9343-b355-4d7e-e71c-f56cd6c5edc7",
        "colab": {
          "base_uri": "https://localhost:8080/"
        }
      },
      "source": [
        "# 連番の配列を要素数を指定して初期化\n",
        "print(np.arange(5))\n",
        "print(np.arange(2,9))\n",
        "print(np.arange(5,8,0.5))"
      ],
      "execution_count": 40,
      "outputs": [
        {
          "output_type": "stream",
          "text": [
            "[0 1 2 3 4]\n",
            "[2 3 4 5 6 7 8]\n",
            "[5.  5.5 6.  6.5 7.  7.5]\n"
          ],
          "name": "stdout"
        }
      ]
    },
    {
      "cell_type": "markdown",
      "metadata": {
        "id": "sb0CL3-xCyr4"
      },
      "source": [
        "numpyで行列計算"
      ]
    },
    {
      "cell_type": "code",
      "metadata": {
        "id": "IfsHbC8qC0UX",
        "outputId": "4b5a3cde-823a-4665-8d7d-db6f2a62ba25",
        "colab": {
          "base_uri": "https://localhost:8080/"
        }
      },
      "source": [
        "# numpyで行列計算\n",
        "a = np.array([1,2,3,4,5])\n",
        "b = a*2\n",
        "print(b)\n",
        "x = np.arange(10)\n",
        "print(x)\n",
        "y = 3*x + 5\n",
        "print(y)"
      ],
      "execution_count": 41,
      "outputs": [
        {
          "output_type": "stream",
          "text": [
            "[ 2  4  6  8 10]\n",
            "[0 1 2 3 4 5 6 7 8 9]\n",
            "[ 5  8 11 14 17 20 23 26 29 32]\n"
          ],
          "name": "stdout"
        }
      ]
    },
    {
      "cell_type": "code",
      "metadata": {
        "id": "waBWjWXNC2TW",
        "outputId": "0c1d6167-96e9-4df4-9669-371300c24c86",
        "colab": {
          "base_uri": "https://localhost:8080/"
        }
      },
      "source": [
        "a = np.array([[1,2,3],[4,5,6]])\n",
        "print(a)\n",
        "print(a.shape)\n",
        "\n",
        "b = np.array([[1,2,3],[4,5,6],[7,8,9]])\n",
        "print(b)\n",
        "print(b.shape)"
      ],
      "execution_count": 42,
      "outputs": [
        {
          "output_type": "stream",
          "text": [
            "[[1 2 3]\n",
            " [4 5 6]]\n",
            "(2, 3)\n",
            "[[1 2 3]\n",
            " [4 5 6]\n",
            " [7 8 9]]\n",
            "(3, 3)\n"
          ],
          "name": "stdout"
        }
      ]
    },
    {
      "cell_type": "code",
      "metadata": {
        "id": "MvtOnzE8C4DI",
        "outputId": "b809830a-18a5-4da8-a058-78251287ea53",
        "colab": {
          "base_uri": "https://localhost:8080/"
        }
      },
      "source": [
        "# Numpy配列で次元数を変換する\n",
        "a = np.array([[1,2,3],[4,5,6]])\n",
        "print(\"a=\", a)\n",
        "b = a.flatten()\n",
        "print(\"b=\", b)\n",
        "\n",
        "a = np.array([[1,2,3],[4,5,6]])\n",
        "print(a)\n",
        "b = a.reshape(3,2)\n",
        "print(b)"
      ],
      "execution_count": 43,
      "outputs": [
        {
          "output_type": "stream",
          "text": [
            "a= [[1 2 3]\n",
            " [4 5 6]]\n",
            "b= [1 2 3 4 5 6]\n",
            "[[1 2 3]\n",
            " [4 5 6]]\n",
            "[[1 2]\n",
            " [3 4]\n",
            " [5 6]]\n"
          ],
          "name": "stdout"
        }
      ]
    },
    {
      "cell_type": "markdown",
      "metadata": {
        "id": "IcExEsrcC54A"
      },
      "source": [
        "numpyの配列にアクセスする方法"
      ]
    },
    {
      "cell_type": "code",
      "metadata": {
        "id": "7tHW4pdTC7nW",
        "outputId": "f2ded8db-709c-4f76-c8f4-8a807a7b7d04",
        "colab": {
          "base_uri": "https://localhost:8080/"
        }
      },
      "source": [
        "v = np.array([[1,2,3],[4,5,6],[7,8,9]])\n",
        "a = v[0]\n",
        "print(a) # 二次元配列の０行目\n",
        "b = v[1:] #  一列目いこう\n",
        "print(b)\n",
        "c = v[:,0]\n",
        "print(c)"
      ],
      "execution_count": 44,
      "outputs": [
        {
          "output_type": "stream",
          "text": [
            "[1 2 3]\n",
            "[[4 5 6]\n",
            " [7 8 9]]\n",
            "[1 4 7]\n"
          ],
          "name": "stdout"
        }
      ]
    }
  ]
}