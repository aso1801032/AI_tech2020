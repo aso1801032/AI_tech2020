{
  "nbformat": 4,
  "nbformat_minor": 0,
  "metadata": {
    "colab": {
      "name": "2020AI0305_fishvideo_ML.ipynb",
      "provenance": [],
      "authorship_tag": "ABX9TyN9iN8lOHn7dx0EdxHmgiN6",
      "include_colab_link": true
    },
    "kernelspec": {
      "name": "python3",
      "display_name": "Python 3"
    }
  },
  "cells": [
    {
      "cell_type": "markdown",
      "metadata": {
        "id": "view-in-github",
        "colab_type": "text"
      },
      "source": [
        "<a href=\"https://colab.research.google.com/github/aso1801032/AI_tech2020/blob/master/2020AI0305_fishvideo_ML.ipynb\" target=\"_parent\"><img src=\"https://colab.research.google.com/assets/colab-badge.svg\" alt=\"Open In Colab\"/></a>"
      ]
    },
    {
      "cell_type": "markdown",
      "metadata": {
        "id": "_8K8iLylqEe2"
      },
      "source": [
        "##魚の画像を学習して動画分析に利用する"
      ]
    },
    {
      "cell_type": "markdown",
      "metadata": {
        "id": "7-erso_yqId6"
      },
      "source": [
        "###魚の画像をダウンロードして解凍"
      ]
    },
    {
      "cell_type": "code",
      "metadata": {
        "id": "koTnoWpCqCAE"
      },
      "source": [
        "# 画像zipのダウンロード\n",
        "import urllib.request as req\n",
        "\n",
        "# 魚が写っている画像\n",
        "url = \"https://github.com/masatokg/sample_photo/raw/master/fish.zip\"\n",
        "save_file = \"fish.zip\"\n",
        "req.urlretrieve(url,save_file)\n",
        "\n",
        "# 魚が映っていない画像\n",
        "url = \"https://github.com/masatokg/sample_photo/raw/master/nofish.zip\"\n",
        "save_file = \"nofish.zip\"\n",
        "req.urlretrieve(url,save_file)\n",
        "\n",
        "# それぞれ解凍する\n",
        "!unzip -o -q \"./fish.zip\"\n",
        "!unzip -o -q \"./nofish.zip\""
      ],
      "execution_count": 5,
      "outputs": []
    },
    {
      "cell_type": "markdown",
      "metadata": {
        "id": "LJbzEYxlqNOT"
      },
      "source": [
        "###魚の学習のための定義"
      ]
    },
    {
      "cell_type": "code",
      "metadata": {
        "id": "Julb_HBNqRum"
      },
      "source": [
        "# ライブラリのinport\n",
        "import cv2\n",
        "import os, glob, pickle\n",
        "from sklearn.model_selection import train_test_split\n",
        "from sklearn import datasets, metrics\n",
        "from sklearn.ensemble import RandomForestClassifier\n",
        "from sklearn.metrics import accuracy_score"
      ],
      "execution_count": 6,
      "outputs": []
    },
    {
      "cell_type": "code",
      "metadata": {
        "colab": {
          "base_uri": "https://localhost:8080/"
        },
        "id": "Um9_oatbr83W",
        "outputId": "d79a8914-3d35-4a53-8388-e00aded9c00e"
      },
      "source": [
        "# 画像のサイズやパスを指定\n",
        "image_size = (64,32)\n",
        "path = \"/content\"\n",
        "path_fish = path + \"/fish\"\n",
        "path_nofish = path + \"/nofish\"\n",
        "x = []# 画像データ（説明変数）用配列\n",
        "y = []# ラベルデータ（目的変数）用配列\n",
        "print(path_fish)\n",
        "print(path_nofish)"
      ],
      "execution_count": 7,
      "outputs": [
        {
          "output_type": "stream",
          "text": [
            "/content/fish\n",
            "/content/nofish\n"
          ],
          "name": "stdout"
        }
      ]
    },
    {
      "cell_type": "markdown",
      "metadata": {
        "id": "54ioK186qTsw"
      },
      "source": [
        "###学習に使う自作関数を定義"
      ]
    },
    {
      "cell_type": "code",
      "metadata": {
        "id": "oGTQajt8qXpq"
      },
      "source": [
        "# 画像データを読み込んで説明変数、目的変数に追加する処理の関数を定義\n",
        "def read_dir(path, label,x,y,image_size):\n",
        "  # 正規表現にマッチするファイルパスリストを取得する\n",
        "  files = glob.glob(path + \"/*.jpg\")\n",
        "  print(files)\n",
        "  # ファイルパスリストの要素１つずつループ\n",
        "  for f in files:\n",
        "    # 画像データを読み込む\n",
        "    \n",
        "    img = cv2.imread(f)\n",
        "    img = cv2.resize(img, image_size) # 学習用にサイズを統一\n",
        "    img_data = img.reshape(-1,) # 行数任意のいち次元配列に変換\n",
        "    x.append( img_data ) # 画像データを説明変数配列に追加\n",
        "    y.append( label ) # 画像データと同じ順番１でラベル値を目的変数に追加"
      ],
      "execution_count": 8,
      "outputs": []
    },
    {
      "cell_type": "markdown",
      "metadata": {
        "id": "Wlm_gFbZqZwk"
      },
      "source": [
        "###学習処理"
      ]
    },
    {
      "cell_type": "code",
      "metadata": {
        "colab": {
          "base_uri": "https://localhost:8080/"
        },
        "id": "LVVD3HYhqb2z",
        "outputId": "9eff88bc-bed6-41ce-e92d-b83fbcee6fdf"
      },
      "source": [
        "# 画像データを読み込む\n",
        "read_dir( path_nofish, 0, x, y, image_size ) # ラベルを０：Falseとして登録\n",
        "read_dir( path_fish, 1, x, y, image_size ) # ラベルを1：Trueとして登録\n",
        "\n",
        "# データを学習用とテストように分割する\n",
        "x_train,x_test,y_train,y_test = train_test_split(x,y,test_size=0.2)\n",
        "\n",
        "#　ランダムフォレストアルゴリズムで学習モデルを生成、学習させる\n",
        "clf = RandomForestClassifier()\n",
        "clf.fit( x_train, y_train )\n",
        "\n",
        "# 精度の確認\n",
        "y_pred = clf.predict( x_test )\n",
        "print(\"学習精度:\",accuracy_score(y_test,y_pred))\n",
        "\n",
        "# 学習モデルのメモリ状態をファイル保存\n",
        "with open(\"fish.pkl\",\"wb\") as fp:\n",
        "  pickle.dump(clf, fp)"
      ],
      "execution_count": 9,
      "outputs": [
        {
          "output_type": "stream",
          "text": [
            "['/content/nofish/23.jpg', '/content/nofish/22.jpg', '/content/nofish/124.jpg', '/content/nofish/3631.jpg', '/content/nofish/3652.jpg', '/content/nofish/39.jpg', '/content/nofish/226.jpg', '/content/nofish/154.jpg', '/content/nofish/3461.jpg', '/content/nofish/3447.jpg', '/content/nofish/30.jpg', '/content/nofish/21.jpg', '/content/nofish/3593.jpg', '/content/nofish/278.jpg', '/content/nofish/3456.jpg', '/content/nofish/4033.jpg', '/content/nofish/8.jpg', '/content/nofish/7.jpg', '/content/nofish/20.jpg', '/content/nofish/5.jpg', '/content/nofish/18.jpg', '/content/nofish/238.jpg', '/content/nofish/279.jpg', '/content/nofish/132.jpg', '/content/nofish/12.jpg', '/content/nofish/3564.jpg', '/content/nofish/271.jpg', '/content/nofish/3513.jpg', '/content/nofish/266.jpg', '/content/nofish/3448.jpg', '/content/nofish/337.jpg', '/content/nofish/313.jpg', '/content/nofish/33.jpg', '/content/nofish/3454.jpg', '/content/nofish/254.jpg', '/content/nofish/43.jpg', '/content/nofish/3648.jpg', '/content/nofish/35.jpg', '/content/nofish/249.jpg', '/content/nofish/38.jpg', '/content/nofish/37.jpg', '/content/nofish/3632.jpg', '/content/nofish/3506.jpg', '/content/nofish/281.jpg', '/content/nofish/19.jpg', '/content/nofish/275.jpg', '/content/nofish/6.jpg', '/content/nofish/17.jpg', '/content/nofish/253.jpg', '/content/nofish/3661.jpg', '/content/nofish/3468.jpg', '/content/nofish/13.jpg', '/content/nofish/245.jpg', '/content/nofish/3450.jpg', '/content/nofish/241.jpg', '/content/nofish/3455.jpg', '/content/nofish/130.jpg', '/content/nofish/14.jpg', '/content/nofish/324.jpg', '/content/nofish/3656.jpg', '/content/nofish/32.jpg', '/content/nofish/3453.jpg', '/content/nofish/3588.jpg', '/content/nofish/312.jpg', '/content/nofish/122.jpg', '/content/nofish/3463.jpg', '/content/nofish/2.jpg', '/content/nofish/3601.jpg', '/content/nofish/28.jpg', '/content/nofish/3568.jpg', '/content/nofish/267.jpg', '/content/nofish/157.jpg', '/content/nofish/11.jpg', '/content/nofish/42.jpg', '/content/nofish/3570.jpg', '/content/nofish/10.jpg', '/content/nofish/3444.jpg', '/content/nofish/31.jpg', '/content/nofish/3565.jpg', '/content/nofish/3471.jpg', '/content/nofish/44.jpg', '/content/nofish/3532.jpg', '/content/nofish/3647.jpg', '/content/nofish/29.jpg', '/content/nofish/3458.jpg', '/content/nofish/36.jpg', '/content/nofish/34.jpg', '/content/nofish/3534.jpg', '/content/nofish/0.jpg', '/content/nofish/172.jpg', '/content/nofish/3625.jpg', '/content/nofish/24.jpg', '/content/nofish/3646.jpg', '/content/nofish/177.jpg', '/content/nofish/3470.jpg', '/content/nofish/3584.jpg', '/content/nofish/3510.jpg', '/content/nofish/3446.jpg', '/content/nofish/3597.jpg', '/content/nofish/16.jpg', '/content/nofish/3579.jpg', '/content/nofish/3457.jpg', '/content/nofish/3645.jpg', '/content/nofish/3518.jpg', '/content/nofish/3.jpg', '/content/nofish/273.jpg', '/content/nofish/3566.jpg', '/content/nofish/3587.jpg', '/content/nofish/25.jpg', '/content/nofish/186.jpg', '/content/nofish/3443.jpg', '/content/nofish/3467.jpg', '/content/nofish/3526.jpg', '/content/nofish/3512.jpg', '/content/nofish/3507.jpg', '/content/nofish/197.jpg', '/content/nofish/41.jpg', '/content/nofish/280.jpg', '/content/nofish/9.jpg', '/content/nofish/3459.jpg', '/content/nofish/257.jpg', '/content/nofish/3508.jpg', '/content/nofish/3580.jpg', '/content/nofish/3585.jpg', '/content/nofish/3509.jpg', '/content/nofish/15.jpg', '/content/nofish/45.jpg', '/content/nofish/3466.jpg', '/content/nofish/40.jpg', '/content/nofish/3595.jpg', '/content/nofish/3465.jpg', '/content/nofish/237.jpg', '/content/nofish/272.jpg', '/content/nofish/3473.jpg', '/content/nofish/3643.jpg', '/content/nofish/3596.jpg', '/content/nofish/242.jpg', '/content/nofish/3644.jpg', '/content/nofish/46.jpg', '/content/nofish/3469.jpg', '/content/nofish/27.jpg', '/content/nofish/1.jpg', '/content/nofish/4034.jpg', '/content/nofish/3462.jpg', '/content/nofish/4.jpg', '/content/nofish/3511.jpg', '/content/nofish/26.jpg', '/content/nofish/282.jpg', '/content/nofish/3451.jpg', '/content/nofish/126.jpg']\n",
            "['/content/fish/2827.jpg', '/content/fish/1326.jpg', '/content/fish/1352.jpg', '/content/fish/223.jpg', '/content/fish/1249.jpg', '/content/fish/1247.jpg', '/content/fish/2853.jpg', '/content/fish/1414.jpg', '/content/fish/2836.jpg', '/content/fish/1165.jpg', '/content/fish/1287.jpg', '/content/fish/3798.jpg', '/content/fish/3816.jpg', '/content/fish/1392.jpg', '/content/fish/274.jpg', '/content/fish/2626.jpg', '/content/fish/1283.jpg', '/content/fish/1944.jpg', '/content/fish/1308.jpg', '/content/fish/2814.jpg', '/content/fish/1231.jpg', '/content/fish/3197.jpg', '/content/fish/1421.jpg', '/content/fish/1988.jpg', '/content/fish/1922.jpg', '/content/fish/373.jpg', '/content/fish/2785.jpg', '/content/fish/1391.jpg', '/content/fish/1438.jpg', '/content/fish/1290.jpg', '/content/fish/3193.jpg', '/content/fish/1946.jpg', '/content/fish/2815.jpg', '/content/fish/4029.jpg', '/content/fish/1318.jpg', '/content/fish/276.jpg', '/content/fish/2634.jpg', '/content/fish/4030.jpg', '/content/fish/1429.jpg', '/content/fish/1980.jpg', '/content/fish/2874.jpg', '/content/fish/248.jpg', '/content/fish/3804.jpg', '/content/fish/1260.jpg', '/content/fish/1254.jpg', '/content/fish/3191.jpg', '/content/fish/1179.jpg', '/content/fish/1436.jpg', '/content/fish/1275.jpg', '/content/fish/170.jpg', '/content/fish/1357.jpg', '/content/fish/2858.jpg', '/content/fish/2047.jpg', '/content/fish/1368.jpg', '/content/fish/1440.jpg', '/content/fish/3965.jpg', '/content/fish/2863.jpg', '/content/fish/1087.jpg', '/content/fish/1551.jpg', '/content/fish/1264.jpg', '/content/fish/1935.jpg', '/content/fish/2588.jpg', '/content/fish/3983.jpg', '/content/fish/3814.jpg', '/content/fish/239.jpg', '/content/fish/1996.jpg', '/content/fish/1245.jpg', '/content/fish/1454.jpg', '/content/fish/268.jpg', '/content/fish/1158.jpg', '/content/fish/1950.jpg', '/content/fish/1225.jpg', '/content/fish/3806.jpg', '/content/fish/3800.jpg', '/content/fish/1177.jpg', '/content/fish/1280.jpg', '/content/fish/1418.jpg', '/content/fish/1974.jpg', '/content/fish/1394.jpg', '/content/fish/1531.jpg', '/content/fish/231.jpg', '/content/fish/3036.jpg', '/content/fish/2623.jpg', '/content/fish/1161.jpg', '/content/fish/1450.jpg', '/content/fish/1984.jpg', '/content/fish/3769.jpg', '/content/fish/1371.jpg', '/content/fish/1443.jpg', '/content/fish/74.jpg', '/content/fish/213.jpg', '/content/fish/2059.jpg', '/content/fish/1991.jpg', '/content/fish/3819.jpg', '/content/fish/3029.jpg', '/content/fish/2595.jpg', '/content/fish/1339.jpg', '/content/fish/1940.jpg', '/content/fish/2850.jpg', '/content/fish/3810.jpg', '/content/fish/1322.jpg', '/content/fish/1330.jpg', '/content/fish/1232.jpg', '/content/fish/1381.jpg', '/content/fish/4014.jpg', '/content/fish/3185.jpg', '/content/fish/1268.jpg', '/content/fish/3950.jpg', '/content/fish/209.jpg', '/content/fish/1191.jpg', '/content/fish/2044.jpg', '/content/fish/1286.jpg', '/content/fish/1435.jpg', '/content/fish/1377.jpg', '/content/fish/2599.jpg', '/content/fish/1346.jpg', '/content/fish/3811.jpg', '/content/fish/228.jpg', '/content/fish/1263.jpg', '/content/fish/1954.jpg', '/content/fish/216.jpg', '/content/fish/1452.jpg', '/content/fish/2631.jpg', '/content/fish/2786.jpg', '/content/fish/3803.jpg', '/content/fish/1969.jpg', '/content/fish/1877.jpg', '/content/fish/3964.jpg', '/content/fish/1395.jpg', '/content/fish/1154.jpg', '/content/fish/3733.jpg', '/content/fish/1951.jpg', '/content/fish/1224.jpg', '/content/fish/2066.jpg', '/content/fish/1949.jpg', '/content/fish/2982.jpg', '/content/fish/3234.jpg', '/content/fish/3030.jpg', '/content/fish/252.jpg', '/content/fish/256.jpg', '/content/fish/2006.jpg', '/content/fish/1411.jpg', '/content/fish/1557.jpg', '/content/fish/1335.jpg', '/content/fish/2042.jpg', '/content/fish/2979.jpg', '/content/fish/1442.jpg', '/content/fish/2993.jpg', '/content/fish/3763.jpg', '/content/fish/2861.jpg']\n",
            "学習精度: 0.95\n"
          ],
          "name": "stdout"
        }
      ]
    },
    {
      "cell_type": "markdown",
      "metadata": {
        "id": "bTrQqXvqsTOG"
      },
      "source": [
        "##学習モデルを利用して動画から魚の画像を検出"
      ]
    },
    {
      "cell_type": "markdown",
      "metadata": {
        "id": "Z45j01u3sVqL"
      },
      "source": [
        "###解析の準備"
      ]
    },
    {
      "cell_type": "code",
      "metadata": {
        "id": "QFm-azresYJ7"
      },
      "source": [
        "import cv2, os, copy, pickle\n",
        "from google.colab.patches import cv2_imshow\n",
        "\n",
        "# 学習済みモデルファイルをプログラムに読み込む\n",
        "with open(\"fish.pkl\", \"rb\") as fp:\n",
        "  clf = pickle.load( fp )\n",
        "  # with 終わり\n",
        "\n",
        "  # 解析画像出力ようディレクトリ用文字列\n",
        "  output_dir = \"./bestshot\"\n",
        "  # 解析画像出力ディレクトリが存在しなければ作成\n",
        "  if not os.path.isdir(output_dir): os.mkdir(output_dir)\n",
        "  # 　　以下でも同じことができる\n",
        "  #os.makedirs( output_dir, exist_ok=True )\n",
        "\n",
        "  # 各処理よう変数を定義\n",
        "  img_last = None # 前回の画像データよう変数\n",
        "  fish_th = 3 # 画像を出力するかどうかの閾値（1枚あたりの魚の検出数）\n",
        "  count = 0\n",
        "  frame_count = 0"
      ],
      "execution_count": 10,
      "outputs": []
    },
    {
      "cell_type": "markdown",
      "metadata": {
        "id": "9VcQ6pgGsaQL"
      },
      "source": [
        "###動画ファイルの読み込み処理"
      ]
    },
    {
      "cell_type": "code",
      "metadata": {
        "colab": {
          "base_uri": "https://localhost:8080/"
        },
        "id": "s6T8I9zssdyW",
        "outputId": "ce239b28-afea-48c6-ab12-0c8fd2795afe"
      },
      "source": [
        "url = \"https://github.com/masatokg/sample_photo/raw/master/fish.mp4\"\n",
        "save_file = \"fish.mp4\"\n",
        "req.urlretrieve( url, save_file )"
      ],
      "execution_count": 11,
      "outputs": [
        {
          "output_type": "execute_result",
          "data": {
            "text/plain": [
              "('fish.mp4', <http.client.HTTPMessage at 0x7facc3554240>)"
            ]
          },
          "metadata": {
            "tags": []
          },
          "execution_count": 11
        }
      ]
    },
    {
      "cell_type": "markdown",
      "metadata": {
        "id": "Pf6MInx_sfnk"
      },
      "source": [
        "###動画をプログラムに読み込み、フレームワークの差分により変化を検出、検出した部分に魚がいるかを推論して、魚がいると判定したらフレームをbestshotディレクトリファイル保存"
      ]
    },
    {
      "cell_type": "code",
      "metadata": {
        "colab": {
          "base_uri": "https://localhost:8080/"
        },
        "id": "_0L2qyD_sjKB",
        "outputId": "9bd5f8fc-df7f-46de-fef3-91ab8b7d66d5"
      },
      "source": [
        "# openCVで動画データを読み込み\n",
        "cap = cv2.VideoCapture( save_file )\n",
        "# フレームがなくなるまで、無限ループ\n",
        "while True:\n",
        "  is_ok, frame = cap.read()\n",
        "  if not is_ok:\n",
        "    print(\"end\")\n",
        "    break\n",
        "    # if分の終わり（初回判定のif文）\n",
        "  frame = cv2.resize( frame, (640, 360) )# 差分検出対象フレームのサイズを統一\n",
        "  # 検出エリア枠表示ようの画像データを作る\n",
        "  frame2 = copy.copy( frame )\n",
        "  frame_count += 1\n",
        "  # 前のフレームと比較するために\n",
        "  gray = cv2.cvtColor( frame,cv2.COLOR_BGR2GRAY )\n",
        "  gray=cv2.GaussianBlur(gray,(15,15),0)\n",
        "  img_b = cv2.threshold(gray, 127, 255, cv2.THRESH_BINARY )[1]\n",
        "  # 　前の画像がない（=最初の画像）出なければ実行\n",
        "  if not img_last is None:\n",
        "    # 差分を得る\n",
        "    frame_diff = cv2.absdiff( img_last, img_b )\n",
        "    cnts = cv2.findContours( frame_diff,\n",
        "                            cv2.RETR_EXTERNAL,\n",
        "                            cv2.CHAIN_APPROX_SIMPLE)[0]\n",
        "    #　各差分領域に魚が写っているか一つずつ調べる\n",
        "    fish_count = 0\n",
        "    for pt in cnts:\n",
        "      #検出した領域情報を変数に格納\n",
        "      x,y,w,h = cv2.boundingRect(pt)\n",
        "      if w < 100 or w > 500: continue # ノイズとして無視\n",
        "      # 抽出した差分領域に魚が映っているか推論するために画像サイズを揃える\n",
        "      imgex=frame[y:y+h,x:x+w]\n",
        "      imgex = cv2.resize( imgex, (64, 32) ) # 学習モデルのサイズにあわっせる\n",
        "      image_data = imgex.reshape( -1, )# 推論のために一次元配列に変換\n",
        "      # 推論させる\n",
        "      pred_y = clf.predict([image_data])\n",
        "      # 魚と判定できたら領域に枠をつけてframe2という画像にする\n",
        "      if pred_y[0] == 1:\n",
        "        fish_count += 1\n",
        "        cv2.rectangle(frame2,(x,y), (x+w, y+h), (0,255,0), 2 ) # Greenの枠\n",
        "      #if分の終わり\n",
        "    #for 分の終わり\n",
        "    # 閾値以上に魚の数が写っていれば、画像ファイルとして出力\n",
        "    if fish_count > fish_th:\n",
        "      fname = output_dir + \"/fish\" + str(count) + \".jpg\"\n",
        "      cv2.imwrite(fname, frame) # 指定した画像名でフレームを保存\n",
        "      count += 1 # 画像ファイルカウンタを+1\n",
        "    # if分終わり\n",
        "  # 負荷が重いのでコメントアウト\n",
        "  # cv2.imshow(frame2)  枠付きの画像を表示する \n",
        "  img_last = img_b # 前回のフレーム画像を記憶\n",
        "\n",
        "  # while終わり\n",
        "cap.release() # 動画ファイルを開放\n",
        "# 出力した枚数を表示\n",
        "print(\"ok\",count,\"/\",frame_count, \"/枚検出\")"
      ],
      "execution_count": 12,
      "outputs": [
        {
          "output_type": "stream",
          "text": [
            "end\n",
            "ok 91 / 1989 /枚検出\n"
          ],
          "name": "stdout"
        }
      ]
    }
  ]
}