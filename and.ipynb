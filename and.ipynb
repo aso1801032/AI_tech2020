{
  "nbformat": 4,
  "nbformat_minor": 0,
  "metadata": {
    "colab": {
      "name": "and.ipynb",
      "provenance": [],
      "authorship_tag": "ABX9TyME2TRnF+IA5EVlSJLpHiyW",
      "include_colab_link": true
    },
    "kernelspec": {
      "name": "python3",
      "display_name": "Python 3"
    }
  },
  "cells": [
    {
      "cell_type": "markdown",
      "metadata": {
        "id": "view-in-github",
        "colab_type": "text"
      },
      "source": [
        "<a href=\"https://colab.research.google.com/github/aso1801032/AI_tech2020/blob/master/and.ipynb\" target=\"_parent\"><img src=\"https://colab.research.google.com/assets/colab-badge.svg\" alt=\"Open In Colab\"/></a>"
      ]
    },
    {
      "cell_type": "code",
      "metadata": {
        "id": "WJTmfg0HqQ5r",
        "colab_type": "code",
        "colab": {}
      },
      "source": [
        ""
      ],
      "execution_count": null,
      "outputs": []
    },
    {
      "cell_type": "markdown",
      "metadata": {
        "id": "EtVW4y0HqWCU",
        "colab_type": "text"
      },
      "source": [
        "###AND演算をモデルに学ばせる（LinearSVC）"
      ]
    },
    {
      "cell_type": "code",
      "metadata": {
        "id": "lhYSyJjhq1Rz",
        "colab_type": "code",
        "colab": {}
      },
      "source": [
        "#sclit-learnを使うためインポートする\n",
        "from sklearn.svm import LinearSVC #線形SVCのオブジェクト\n",
        "from sklearn.metrics import accuracy_score #結果を表示するためのオブジェクト"
      ],
      "execution_count": 1,
      "outputs": []
    },
    {
      "cell_type": "markdown",
      "metadata": {
        "id": "DD0lyaW_rmqT",
        "colab_type": "text"
      },
      "source": [
        "###学習のためのデータを用意する"
      ]
    },
    {
      "cell_type": "code",
      "metadata": {
        "id": "1-GP4vEcryVl",
        "colab_type": "code",
        "colab": {}
      },
      "source": [
        "#入力値を表すデータ\n",
        "#入力X、入力Y\n",
        "learn_data = [ [0,0],[1,0],[0,1],[1,1] ]\n",
        "#XとYのAND結果\n",
        "learn_label = [ 0,0,0,1 ]"
      ],
      "execution_count": 2,
      "outputs": []
    },
    {
      "cell_type": "markdown",
      "metadata": {
        "id": "Q3eevJfRvJIW",
        "colab_type": "text"
      },
      "source": [
        "###アルゴリズムのインスタンスを生成"
      ]
    },
    {
      "cell_type": "code",
      "metadata": {
        "id": "aZ1Q8Lu4vNrB",
        "colab_type": "code",
        "colab": {}
      },
      "source": [
        "#線形SVCのインスタンスを生成\n",
        "clf = LinearSVC()"
      ],
      "execution_count": 3,
      "outputs": []
    },
    {
      "cell_type": "markdown",
      "metadata": {
        "id": "P9SEc3FIvbKp",
        "colab_type": "text"
      },
      "source": [
        "###モデルに学習させる（fitメソッド）"
      ]
    },
    {
      "cell_type": "code",
      "metadata": {
        "id": "jrja7hFqviCZ",
        "colab_type": "code",
        "colab": {
          "base_uri": "https://localhost:8080/",
          "height": 85
        },
        "outputId": "1d283fcc-436e-4651-cec7-f652dd9ad050"
      },
      "source": [
        "clf.fit(learn_data, learn_label)"
      ],
      "execution_count": 4,
      "outputs": [
        {
          "output_type": "execute_result",
          "data": {
            "text/plain": [
              "LinearSVC(C=1.0, class_weight=None, dual=True, fit_intercept=True,\n",
              "          intercept_scaling=1, loss='squared_hinge', max_iter=1000,\n",
              "          multi_class='ovr', penalty='l2', random_state=None, tol=0.0001,\n",
              "          verbose=0)"
            ]
          },
          "metadata": {
            "tags": []
          },
          "execution_count": 4
        }
      ]
    },
    {
      "cell_type": "markdown",
      "metadata": {
        "id": "OQqEVd0_vqug",
        "colab_type": "text"
      },
      "source": [
        "###モデルがちゃんと学習できたか、テストデータで予測させてみる"
      ]
    },
    {
      "cell_type": "code",
      "metadata": {
        "id": "j0yhKdclv3D1",
        "colab_type": "code",
        "colab": {
          "base_uri": "https://localhost:8080/",
          "height": 68
        },
        "outputId": "6c39818a-098d-47d2-d559-1b96cfff7ec4"
      },
      "source": [
        "#予測用のデータ（検証用データ）を作る\n",
        "test_data = [ [0,0],[1,0],[0,1],[1,1] ]\n",
        "#モデルにテストデータを回答させる(予測)予測のメソッドはpredict\n",
        "test_label = clf.predict(test_data)\n",
        "print(test_label)\n",
        "#予測結果の評価\n",
        "print(test_data,\"の予測結果：\",test_label)\n",
        "#結果の精度を表示させる\n",
        "print(\"正解率＝\",accuracy_score([0,0,0,1],test_label))"
      ],
      "execution_count": 5,
      "outputs": [
        {
          "output_type": "stream",
          "text": [
            "[0 0 0 1]\n",
            "[[0, 0], [1, 0], [0, 1], [1, 1]] の予測結果： [0 0 0 1]\n",
            "正解率＝ 1.0\n"
          ],
          "name": "stdout"
        }
      ]
    },
    {
      "cell_type": "markdown",
      "metadata": {
        "id": "JQtXVWm4wVwe",
        "colab_type": "text"
      },
      "source": [
        "###XOR演算を実装する\n"
      ]
    },
    {
      "cell_type": "code",
      "metadata": {
        "id": "Z0baLjKYwhaH",
        "colab_type": "code",
        "colab": {}
      },
      "source": [
        "#XOR演算を学習するためのデータを用意する\n",
        "#X,Yの準\n",
        "learn_data = [ [0,0],[1,0],[0,1],[1,1] ]\n",
        "#毛科の正解データ（学習ラベル）\n",
        "learn_label = [ 0,1,1,0 ]"
      ],
      "execution_count": 6,
      "outputs": []
    },
    {
      "cell_type": "code",
      "metadata": {
        "id": "hreaYbtixYl3",
        "colab_type": "code",
        "colab": {
          "base_uri": "https://localhost:8080/",
          "height": 85
        },
        "outputId": "9adec08f-0204-44ee-a897-e1d902e7e333"
      },
      "source": [
        "#学習モデルのインスタンスを作る(LinearSVC)\n",
        "clf = LinearSVC()\n",
        "#学習させる\n",
        "clf.fit(learn_data, learn_label)"
      ],
      "execution_count": 7,
      "outputs": [
        {
          "output_type": "execute_result",
          "data": {
            "text/plain": [
              "LinearSVC(C=1.0, class_weight=None, dual=True, fit_intercept=True,\n",
              "          intercept_scaling=1, loss='squared_hinge', max_iter=1000,\n",
              "          multi_class='ovr', penalty='l2', random_state=None, tol=0.0001,\n",
              "          verbose=0)"
            ]
          },
          "metadata": {
            "tags": []
          },
          "execution_count": 7
        }
      ]
    },
    {
      "cell_type": "code",
      "metadata": {
        "id": "_js3bj_UyGO1",
        "colab_type": "code",
        "colab": {}
      },
      "source": [
        "#学習モデルに推論させる\n",
        "test_data = [ [0,0],[1,0],[0,1],[1,1] ]\n",
        "test_label = clf.predict(test_data)"
      ],
      "execution_count": 8,
      "outputs": []
    },
    {
      "cell_type": "code",
      "metadata": {
        "id": "SS-w71i4yoLQ",
        "colab_type": "code",
        "colab": {
          "base_uri": "https://localhost:8080/",
          "height": 51
        },
        "outputId": "38a6e846-d3b5-41bc-ad35-ea4ca38dedc2"
      },
      "source": [
        "#結果を検証する\n",
        "print(test_data, \"の予測結果\",test_label)\n",
        "print(\"正解率　＝　\" , accuracy_score([ 0,1,1,0 ],test_label))"
      ],
      "execution_count": 9,
      "outputs": [
        {
          "output_type": "stream",
          "text": [
            "[[0, 0], [1, 0], [0, 1], [1, 1]] の予測結果 [0 0 0 0]\n",
            "正解率　＝　 0.5\n"
          ],
          "name": "stdout"
        }
      ]
    },
    {
      "cell_type": "markdown",
      "metadata": {
        "id": "hsF4M4hmaDHj",
        "colab_type": "text"
      },
      "source": [
        "###K近傍法でXOR演算を実装する"
      ]
    },
    {
      "cell_type": "code",
      "metadata": {
        "id": "GoCd81bjaLfT",
        "colab_type": "code",
        "colab": {}
      },
      "source": [
        "#K近傍法のアルゴリズムのクラスをimport\n",
        "from sklearn.neighbors import KNeighborsClassifier"
      ],
      "execution_count": 10,
      "outputs": []
    },
    {
      "cell_type": "code",
      "metadata": {
        "id": "xiltb-iLaeFS",
        "colab_type": "code",
        "colab": {}
      },
      "source": [
        "#学習モデルの変数clfをK近傍法アルゴリズムのインスタンスで上書き\n",
        "clf = KNeighborsClassifier(n_neighbors=1)"
      ],
      "execution_count": 11,
      "outputs": []
    },
    {
      "cell_type": "code",
      "metadata": {
        "id": "oduM0tnrbAJ6",
        "colab_type": "code",
        "colab": {
          "base_uri": "https://localhost:8080/",
          "height": 68
        },
        "outputId": "9243852b-d488-4b96-aa54-f5697d698dc1"
      },
      "source": [
        "#学習用入力データと結果用正解データを使って\n",
        "clf.fit(learn_data,learn_label)"
      ],
      "execution_count": 12,
      "outputs": [
        {
          "output_type": "execute_result",
          "data": {
            "text/plain": [
              "KNeighborsClassifier(algorithm='auto', leaf_size=30, metric='minkowski',\n",
              "                     metric_params=None, n_jobs=None, n_neighbors=1, p=2,\n",
              "                     weights='uniform')"
            ]
          },
          "metadata": {
            "tags": []
          },
          "execution_count": 12
        }
      ]
    },
    {
      "cell_type": "markdown",
      "metadata": {
        "id": "8ItAhgU6bd4z",
        "colab_type": "text"
      },
      "source": [
        "###テスト検証用データで推論する"
      ]
    },
    {
      "cell_type": "code",
      "metadata": {
        "id": "MtHNjC-dbmwj",
        "colab_type": "code",
        "colab": {
          "base_uri": "https://localhost:8080/",
          "height": 51
        },
        "outputId": "786144c9-8e43-4276-cc57-52e0282110a4"
      },
      "source": [
        "#テスト検証用データと答え合わせ用の正解データ\n",
        "test_label = clf.predict(test_data)\n",
        "\n",
        "#推論結果の評価\n",
        "print(test_data,\"の予測（推論）結果\",test_label)\n",
        "print(\"正解率＝\",accuracy_score([0,1,1,0],test_label))"
      ],
      "execution_count": 15,
      "outputs": [
        {
          "output_type": "stream",
          "text": [
            "[[0, 0], [1, 0], [0, 1], [1, 1]] の予測（推論）結果 [0 1 1 0]\n",
            "正解率＝ 1.0\n"
          ],
          "name": "stdout"
        }
      ]
    }
  ]
}