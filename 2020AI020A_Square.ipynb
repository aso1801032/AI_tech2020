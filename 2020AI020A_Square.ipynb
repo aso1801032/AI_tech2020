{
  "nbformat": 4,
  "nbformat_minor": 0,
  "metadata": {
    "colab": {
      "name": "2020AI020A-Square.ipynb",
      "provenance": [],
      "authorship_tag": "ABX9TyMcnEbTfFr2n+aF5ZIOQN85",
      "include_colab_link": true
    },
    "kernelspec": {
      "name": "python3",
      "display_name": "Python 3"
    }
  },
  "cells": [
    {
      "cell_type": "markdown",
      "metadata": {
        "id": "view-in-github",
        "colab_type": "text"
      },
      "source": [
        "<a href=\"https://colab.research.google.com/github/aso1801032/AI_tech2020/blob/master/2020AI020A_Square.ipynb\" target=\"_parent\"><img src=\"https://colab.research.google.com/assets/colab-badge.svg\" alt=\"Open In Colab\"/></a>"
      ]
    },
    {
      "cell_type": "code",
      "metadata": {
        "id": "DSDUDsm0iBc_"
      },
      "source": [
        "#ライブラリの読み込み\n",
        "import pandas as pd\n",
        "#データを学習用とテスト用に分けるライブラリ\n",
        "from sklearn.model_selection import train_test_split\n",
        "#ランダムフォレストアルゴリズムの学習モデル\n",
        "from sklearn.ensemble import RandomForestClassifier\n",
        "#学習精度を比較するライブラリ\n",
        "from sklearn.metrics import accuracy_score\n",
        "#分類結果を出力するライブラリ\n",
        "from sklearn.metrics import classification_report"
      ],
      "execution_count": 39,
      "outputs": []
    },
    {
      "cell_type": "code",
      "metadata": {
        "id": "0S4IKrObtmX6",
        "outputId": "03c3e717-6ade-4859-f945-d5a081e20e8d",
        "colab": {
          "base_uri": "https://localhost:8080/",
          "height": 34
        }
      },
      "source": [
        "#webから読み込むためのライブラリ\n",
        "from urllib.request import urlretrieve\n",
        "#サイトから読み込むためのurl文字列\n",
        "url = \"https://raw.githubusercontent.com/masatokg/square_data/master/data.csv\"\n",
        "savepath = \"data.csv\"\n",
        "#データをwebアクセスでコピーして指定したファイル・パス名に保存\n",
        "urlretrieve(url,savepath)"
      ],
      "execution_count": 40,
      "outputs": [
        {
          "output_type": "execute_result",
          "data": {
            "text/plain": [
              "('data.csv', <http.client.HTTPMessage at 0x7f04680fbba8>)"
            ]
          },
          "metadata": {
            "tags": []
          },
          "execution_count": 40
        }
      ]
    },
    {
      "cell_type": "code",
      "metadata": {
        "id": "y1uXlit2eZTV",
        "outputId": "45e7bc1a-adda-4cdb-8772-04dd573ca3b5",
        "colab": {
          "base_uri": "https://localhost:8080/",
          "height": 340
        }
      },
      "source": [
        "#変数dataにデータ保持\n",
        "data = pd.read_csv(savepath,encoding=\"utf-8\")\n",
        "#読み込んだデータの最初の方を表示\n",
        "print(data.head())\n",
        "data.head()"
      ],
      "execution_count": 41,
      "outputs": [
        {
          "output_type": "stream",
          "text": [
            "   a_length  b_length  c_length  ...  cd_Parallel  ab_right_angle   shape\n",
            "0        10        10        10  ...            1               1  square\n",
            "1        11        11        11  ...            1               1  square\n",
            "2        12        12        12  ...            1               1  square\n",
            "3        13        13        13  ...            1               1  square\n",
            "4        14        14        14  ...            1               1  square\n",
            "\n",
            "[5 rows x 8 columns]\n"
          ],
          "name": "stdout"
        },
        {
          "output_type": "execute_result",
          "data": {
            "text/html": [
              "<div>\n",
              "<style scoped>\n",
              "    .dataframe tbody tr th:only-of-type {\n",
              "        vertical-align: middle;\n",
              "    }\n",
              "\n",
              "    .dataframe tbody tr th {\n",
              "        vertical-align: top;\n",
              "    }\n",
              "\n",
              "    .dataframe thead th {\n",
              "        text-align: right;\n",
              "    }\n",
              "</style>\n",
              "<table border=\"1\" class=\"dataframe\">\n",
              "  <thead>\n",
              "    <tr style=\"text-align: right;\">\n",
              "      <th></th>\n",
              "      <th>a_length</th>\n",
              "      <th>b_length</th>\n",
              "      <th>c_length</th>\n",
              "      <th>d_length</th>\n",
              "      <th>ab_Parallel</th>\n",
              "      <th>cd_Parallel</th>\n",
              "      <th>ab_right_angle</th>\n",
              "      <th>shape</th>\n",
              "    </tr>\n",
              "  </thead>\n",
              "  <tbody>\n",
              "    <tr>\n",
              "      <th>0</th>\n",
              "      <td>10</td>\n",
              "      <td>10</td>\n",
              "      <td>10</td>\n",
              "      <td>10</td>\n",
              "      <td>1</td>\n",
              "      <td>1</td>\n",
              "      <td>1</td>\n",
              "      <td>square</td>\n",
              "    </tr>\n",
              "    <tr>\n",
              "      <th>1</th>\n",
              "      <td>11</td>\n",
              "      <td>11</td>\n",
              "      <td>11</td>\n",
              "      <td>11</td>\n",
              "      <td>1</td>\n",
              "      <td>1</td>\n",
              "      <td>1</td>\n",
              "      <td>square</td>\n",
              "    </tr>\n",
              "    <tr>\n",
              "      <th>2</th>\n",
              "      <td>12</td>\n",
              "      <td>12</td>\n",
              "      <td>12</td>\n",
              "      <td>12</td>\n",
              "      <td>1</td>\n",
              "      <td>1</td>\n",
              "      <td>1</td>\n",
              "      <td>square</td>\n",
              "    </tr>\n",
              "    <tr>\n",
              "      <th>3</th>\n",
              "      <td>13</td>\n",
              "      <td>13</td>\n",
              "      <td>13</td>\n",
              "      <td>13</td>\n",
              "      <td>1</td>\n",
              "      <td>1</td>\n",
              "      <td>1</td>\n",
              "      <td>square</td>\n",
              "    </tr>\n",
              "    <tr>\n",
              "      <th>4</th>\n",
              "      <td>14</td>\n",
              "      <td>14</td>\n",
              "      <td>14</td>\n",
              "      <td>14</td>\n",
              "      <td>1</td>\n",
              "      <td>1</td>\n",
              "      <td>1</td>\n",
              "      <td>square</td>\n",
              "    </tr>\n",
              "  </tbody>\n",
              "</table>\n",
              "</div>"
            ],
            "text/plain": [
              "   a_length  b_length  c_length  ...  cd_Parallel  ab_right_angle   shape\n",
              "0        10        10        10  ...            1               1  square\n",
              "1        11        11        11  ...            1               1  square\n",
              "2        12        12        12  ...            1               1  square\n",
              "3        13        13        13  ...            1               1  square\n",
              "4        14        14        14  ...            1               1  square\n",
              "\n",
              "[5 rows x 8 columns]"
            ]
          },
          "metadata": {
            "tags": []
          },
          "execution_count": 41
        }
      ]
    },
    {
      "cell_type": "code",
      "metadata": {
        "id": "IX4Vu46WiPuj"
      },
      "source": [
        "#trainは学習用、testは検証用\n",
        "x_train,x_test,y_train,y_test=train_test_split(x,y,test_size=0.2)"
      ],
      "execution_count": 42,
      "outputs": []
    },
    {
      "cell_type": "code",
      "metadata": {
        "id": "VWrtYy22iSe_",
        "outputId": "a0f302ab-d202-44a9-9c4a-af04f79587cc",
        "colab": {
          "base_uri": "https://localhost:8080/",
          "height": 153
        }
      },
      "source": [
        "# ランダムフォレストで学習\n",
        "model = RandomForestClassifier()\n",
        "model.fit(x_train, y_train)"
      ],
      "execution_count": 43,
      "outputs": [
        {
          "output_type": "execute_result",
          "data": {
            "text/plain": [
              "RandomForestClassifier(bootstrap=True, ccp_alpha=0.0, class_weight=None,\n",
              "                       criterion='gini', max_depth=None, max_features='auto',\n",
              "                       max_leaf_nodes=None, max_samples=None,\n",
              "                       min_impurity_decrease=0.0, min_impurity_split=None,\n",
              "                       min_samples_leaf=1, min_samples_split=2,\n",
              "                       min_weight_fraction_leaf=0.0, n_estimators=100,\n",
              "                       n_jobs=None, oob_score=False, random_state=None,\n",
              "                       verbose=0, warm_start=False)"
            ]
          },
          "metadata": {
            "tags": []
          },
          "execution_count": 43
        }
      ]
    },
    {
      "cell_type": "code",
      "metadata": {
        "id": "KJWB9FHkiVDY",
        "outputId": "ad421176-7ac1-4e1f-b8e7-68c198394a74",
        "colab": {
          "base_uri": "https://localhost:8080/",
          "height": 221
        }
      },
      "source": [
        "y_pred =model.predict(x_test)\n",
        "# テスト結果(y_pred)と、本当の実データ(正解ラベルデータ)を比較して制度を評価\n",
        "print(classification_report(y_test, y_pred))\n",
        "# 正解率\n",
        "print(\"正解率 = \", accuracy_score(y_test, y_pred))"
      ],
      "execution_count": 44,
      "outputs": [
        {
          "output_type": "stream",
          "text": [
            "              precision    recall  f1-score   support\n",
            "\n",
            "   rectangle       1.00      1.00      1.00        24\n",
            "     rhombus       1.00      1.00      1.00        20\n",
            "      square       1.00      1.00      1.00        21\n",
            "   trapezoid       1.00      1.00      1.00        15\n",
            "\n",
            "    accuracy                           1.00        80\n",
            "   macro avg       1.00      1.00      1.00        80\n",
            "weighted avg       1.00      1.00      1.00        80\n",
            "\n",
            "正解率 =  1.0\n"
          ],
          "name": "stdout"
        }
      ]
    }
  ]
}